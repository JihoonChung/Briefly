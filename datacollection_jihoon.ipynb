{
 "cells": [
  {
   "cell_type": "markdown",
   "metadata": {},
   "source": [
    "# Data Collection\n",
    "\n",
    "This section will be conducting test for summarization data and test some metadata that will be used for personalization."
   ]
  },
  {
   "cell_type": "code",
   "execution_count": 4,
   "metadata": {},
   "outputs": [],
   "source": [
    "import openai\n",
    "import pandas as pd"
   ]
  },
  {
   "cell_type": "code",
   "execution_count": 5,
   "metadata": {},
   "outputs": [
    {
     "name": "stdout",
     "output_type": "stream",
     "text": [
      "0.28.0\n"
     ]
    }
   ],
   "source": [
    "print(openai.__version__)\n"
   ]
  },
  {
   "cell_type": "markdown",
   "metadata": {},
   "source": [
    "# Set up Dataframes"
   ]
  },
  {
   "cell_type": "markdown",
   "metadata": {},
   "source": [
    "## Article dataframe"
   ]
  },
  {
   "cell_type": "code",
   "execution_count": 50,
   "metadata": {},
   "outputs": [
    {
     "data": {
      "text/html": [
       "<div>\n",
       "<style scoped>\n",
       "    .dataframe tbody tr th:only-of-type {\n",
       "        vertical-align: middle;\n",
       "    }\n",
       "\n",
       "    .dataframe tbody tr th {\n",
       "        vertical-align: top;\n",
       "    }\n",
       "\n",
       "    .dataframe thead th {\n",
       "        text-align: right;\n",
       "    }\n",
       "</style>\n",
       "<table border=\"1\" class=\"dataframe\">\n",
       "  <thead>\n",
       "    <tr style=\"text-align: right;\">\n",
       "      <th></th>\n",
       "      <th>article_id</th>\n",
       "      <th>date</th>\n",
       "      <th>headline</th>\n",
       "      <th>content</th>\n",
       "      <th>zero_shot_summary</th>\n",
       "      <th>category</th>\n",
       "    </tr>\n",
       "  </thead>\n",
       "  <tbody>\n",
       "    <tr>\n",
       "      <th>0</th>\n",
       "      <td>1</td>\n",
       "      <td>11/9/2024</td>\n",
       "      <td>What Trump's win means for Canada</td>\n",
       "      <td>\\n\\n        Few nations are as closely tied as...</td>\n",
       "      <td></td>\n",
       "      <td>Politics</td>\n",
       "    </tr>\n",
       "  </tbody>\n",
       "</table>\n",
       "</div>"
      ],
      "text/plain": [
       "   article_id       date                           headline  \\\n",
       "0           1  11/9/2024  What Trump's win means for Canada   \n",
       "\n",
       "                                             content zero_shot_summary  \\\n",
       "0  \\n\\n        Few nations are as closely tied as...                     \n",
       "\n",
       "   category  \n",
       "0  Politics  "
      ]
     },
     "execution_count": 50,
     "metadata": {},
     "output_type": "execute_result"
    }
   ],
   "source": [
    "columns_article = ['article_id', 'date', 'headline', 'content', 'zero_shot_summary', 'expected_summary', 'category']\n",
    "df_article = pd.DataFrame([\n",
    "    {\n",
    "        'article_id': 1,\n",
    "        'date': '11/9/2024',\n",
    "        'headline': 'What Trump\\'s win means for Canada',\n",
    "        'content': \"\"\"\n",
    "\n",
    "        Few nations are as closely tied as the US and Canada. The two share the world's longest land border and a trade relationship worth more than a trillion dollars.\n",
    "\n",
    "        Justin Trudeau, the Canadian Prime Minister, was quick to congratulate President-elect Donald Trump on his election victory.\n",
    "\n",
    "        But there is no doubt their relationship has been rocky and there are challenges on the horizon.\n",
    "\n",
    "        Here are the ways Trump's win could affect America's northern neighbour.\n",
    "\n",
    "        Ottawa and DC's personal ties\n",
    "        On Wednesday morning, Canadian political leaders were cautiously laudatory about Trump's win.\n",
    "\n",
    "        Trudeau congratulated \"\"Donald\"\" on the decisive victory, saying he was looking forward to working with him.\n",
    "\n",
    "        \"\"The world is actually more difficult and more complicated than it was four years ago and I know there's lots of work for us to do,\"\" he said.\n",
    "\n",
    "        Follow live updates after Trump won US election\n",
    "        Results: Who did each state vote for?\n",
    "        In maps and charts: How small gains delivered Trump a big win\n",
    "        These are the seven things Trump says he will do as president\n",
    "        Analysis - Why Kamala Harris lost: A flawed candidate or doomed campaign?\n",
    "        Trump and Trudeau have been counterparts before, notably successfully renegotiating, along with Mexico, the USMCA - the North American trade pact.\n",
    "\n",
    "        But the pair have had strained moments - Trump has referred to Trudeau as a \"\"far-left lunatic\"\" and \"\"two-faced\"\", while Trudeau once appeared to mock Trump at a meeting of Nato leaders in 2019.\n",
    "\n",
    "        It is also possible that Canada could get a new prime minister and government altogether, with Trudeau facing a possible snap election while his Liberal Party trails badly in the polls.\n",
    "\n",
    "        This could complicate the process of forging a renewed, strong relationship with the incoming Trump administration - at least in the short-term, said Louise Blais, a former Canadian diplomat.\n",
    "\n",
    "        \"\"It's not an ideal situation to find ourselves politically at the moment,\"\" she said.\n",
    "\n",
    "        Deputy Prime Minister Chrystia Freeland said on Wednesday that she knew \"\"a lot of Canadians are feeling unsettled today\"\".\n",
    "\n",
    "        But she touted \"\"enduring relationships - I would even say even friendships\"\" that Canadian officials have with their US counterparts.\n",
    "\n",
    "        \"\"Canada will be prosperous, Canadians will be safe and our sovereign identity will be secure as we work with this newly elected administration,\"\" she said.\n",
    "\n",
    "        Trade troubles\n",
    "        Canada and the US have a deeply entwined economic and trade relationship.\n",
    "\n",
    "        Canada exports 75% of its goods and services to the US - and Trump's promise of blanket 10% tariffs could significantly affect its economy.\n",
    "\n",
    "        \"\"I do worry about what an across-the-board tariff would actually look like,\"\" said Trevor Tombe, a Canadian economist with the University of Calgary.\n",
    "\n",
    "        \"\"This is where details are really important - and we unfortunately don't have details for what these tariffs would actually look like.\"\"\n",
    "\n",
    "        Analysis: The view from countries where Trump's win really matters\n",
    "        What does a Trump win mean for the UK?\n",
    "        Trade, aid, security: What does Trump's victory mean for Africa?\n",
    "        What Trump's win means for Ukraine, Middle East and China\n",
    "        Analysis: Will Trump's victory spark a global trade war?\n",
    "        In July, the Business Development Bank of Canada estimated the move could subtract $7bn from Canada's GDP in the year it is implemented - mainly from a drop in business investment - and drive down the Canadian dollar.\n",
    "\n",
    "        Mr Tombe warned that Canada's economic growth is already slowing and in a poor position to absorb shocks.\n",
    "\n",
    "        Also in question is the future of USMCA. The three trade partners will decide in 2026 whether to extend the pact for another 16 years.\n",
    "\n",
    "        John Dickerman, a US-based policy adviser for the Business Council of Canada, said Canada could lean on its previous experience renegotiating that trilateral deal six years ago to meet the challenge.\n",
    "\n",
    "        He said Canada should be consistent in its messaging on the issue, \"\"reminding Americans that this deal has been good for them\"\".\n",
    "\n",
    "        Analysts say that Canada may have to make some concessions as it tries to navigate this new relationship.\n",
    "\n",
    "        Among them is working out how to address policies already unpopular with the US - such as Canada's new Digital Services Tax - a 3% tax on major foreign digital services companies like Google and Amazon.\n",
    "\n",
    "        \"\"The previous Trump administration took a really aggressive view on the Digital Services Tax,\"\" said Dickerman. \"\"I wouldn't expect that to change. If anything, I expect it to amplify a little bit.\"\"\n",
    "\n",
    "        Freeland, the deputy PM, addressed some of these concerns on Wednesday.\n",
    "\n",
    "        She said that Canada being the single biggest export market for the US gives the country \"\"leverage\"\" in future negotiations.\n",
    "\n",
    "        A 'fair share' on defence\n",
    "        Canada has long been seen as a laggard among allies on Nato and defence spending. Trump is expected to place the most pressure on his northern neighbour.\n",
    "\n",
    "        Trudeau has said his country will reach the alliance's minimum target of spending 2% of GDP on defence by 2032, up from the current 1.29%.\n",
    "\n",
    "        In an interview with CTV News Kelly Craft, the former US ambassador to Canada under the first Trump administration said that timeline was \"\"not good enough\"\".\n",
    "\n",
    "        \"\"Donald Trump, when he says he expects people to pay their fair share, they will.\"\"\n",
    "\n",
    "        Ms Blais said Canada has to \"\"get creative\"\" to accelerate the timeline, including leaning on its rich supply of critical minerals for defence purposes.\n",
    "\n",
    "        \"\"We don't have huge fiscal wiggle room,\"\" she said. \"\"But at the same time, I think we can show a little more commitment.\"\"\n",
    "\n",
    "        A plan to secure the border\n",
    "        Trump's threat of mass deportations has raised questions in Canada about what it means for the shared northern border.\n",
    "\n",
    "        Terri Givens, a professor of political science at the University of British Columbia, said even if that threat was not enacted, there was \"\"an issue of perception\"\" that could drive people to cross the Canadian border.\n",
    "\n",
    "        In 2017, thousands of people began entering Canada via Roxham Road - an unofficial access point on the New York-Quebec border - to seek asylum.\n",
    "\n",
    "        The reasons that drove them were diverse, but many cited both concerns of their ability to stay in the US under the first Trump presidency and the belief that they would be welcomed in Canada.\n",
    "\n",
    "        Canada and the US have since closed a loophole in a border pact that allowed people to cross at unofficial border points - but US figures suggest people are still trying to make the attempt.\n",
    "\n",
    "        Asked about the concern, Freeland said there was a plan in place.\n",
    "\n",
    "        \"\"I do want to assure Canadians that we absolutely do recognise the importance of border security and control of the border,\"\" she said.\n",
    "\n",
    "        Solving any potential issue will take close collaboration between Canadian and US officials. The 5,525 miles (8,891km) border is undefended.\n",
    "\n",
    "        \"\"How do you actually enforce that border?\"\" said Julie Young, the Canada Research Chair in Critical Border Studies and an associate professor at the University of Lethbridge.\n",
    "\n",
    "        \"\"And my concern is for the people whose lives will be endangered by how border policies are enforced.\"\"\n",
    "\n",
    "    \n",
    "        \"\"\",\n",
    "        'zero_shot_summary': '',\n",
    "        'category': 'Politics'\n",
    "    },\n",
    "    # Add more articles as needed\n",
    "])\n",
    "\n",
    "df_article.head()"
   ]
  },
  {
   "cell_type": "markdown",
   "metadata": {},
   "source": [
    "## Persona dataframe"
   ]
  },
  {
   "cell_type": "code",
   "execution_count": 52,
   "metadata": {},
   "outputs": [
    {
     "data": {
      "text/html": [
       "<div>\n",
       "<style scoped>\n",
       "    .dataframe tbody tr th:only-of-type {\n",
       "        vertical-align: middle;\n",
       "    }\n",
       "\n",
       "    .dataframe tbody tr th {\n",
       "        vertical-align: top;\n",
       "    }\n",
       "\n",
       "    .dataframe thead th {\n",
       "        text-align: right;\n",
       "    }\n",
       "</style>\n",
       "<table border=\"1\" class=\"dataframe\">\n",
       "  <thead>\n",
       "    <tr style=\"text-align: right;\">\n",
       "      <th></th>\n",
       "      <th>agent_id</th>\n",
       "      <th>prompt</th>\n",
       "    </tr>\n",
       "  </thead>\n",
       "  <tbody>\n",
       "    <tr>\n",
       "      <th>0</th>\n",
       "      <td>jc</td>\n",
       "      <td>You are the Personalization Agent. Your task i...</td>\n",
       "    </tr>\n",
       "    <tr>\n",
       "      <th>1</th>\n",
       "      <td>sa</td>\n",
       "      <td>You are the Summary Agent. Your task is to rea...</td>\n",
       "    </tr>\n",
       "  </tbody>\n",
       "</table>\n",
       "</div>"
      ],
      "text/plain": [
       "  agent_id                                             prompt\n",
       "0       jc  You are the Personalization Agent. Your task i...\n",
       "1       sa  You are the Summary Agent. Your task is to rea..."
      ]
     },
     "execution_count": 52,
     "metadata": {},
     "output_type": "execute_result"
    }
   ],
   "source": [
    "columns_agent = ['agent_id', 'prompt']\n",
    "\n",
    "df_agent = pd.DataFrame([\n",
    "    {\n",
    "        'agent_id': 'jc',\n",
    "        'prompt': \"\"\"You are the Personalization Agent. Your task is to review the summary provided by the Summary Agent and provide feedback.\n",
    "            The user's interest is in Canada's economy and politics. The user has some concerns with immigration policies in Canada.\n",
    "\n",
    "            - Read the summary generated by the Summary Agent.\n",
    "            - Provide constructive feedback on how the summary can be improved to better meet the user's interests.\n",
    "            - Focus on clarity, completeness, and any missing important information.\n",
    "\n",
    "            In your response, start with 'Personalization Agent:' followed by your feedback.\n",
    "        \"\"\"\n",
    "    },\n",
    "    {\n",
    "        'agent_id': 'sa',\n",
    "        'prompt': \"\"\"You are the Summary Agent. Your task is to read the article and generate a concise and accurate summary.\n",
    "\n",
    "            - Read the article provided by the user.\n",
    "            - Generate a summary.\n",
    "            - If you have received feedback from the Personalization Agent, improve your summary accordingly.\n",
    "            - Try to acknowledge the user's interest.\n",
    "\n",
    "            In your response, start with 'Summary Agent:' followed by your summary.\n",
    "        \"\"\"\n",
    "    },\n",
    "\n",
    "])\n",
    "\n",
    "df_agent.head()"
   ]
  },
  {
   "cell_type": "markdown",
   "metadata": {},
   "source": [
    "## Feedback dataframe"
   ]
  },
  {
   "cell_type": "code",
   "execution_count": 53,
   "metadata": {},
   "outputs": [
    {
     "data": {
      "text/html": [
       "<div>\n",
       "<style scoped>\n",
       "    .dataframe tbody tr th:only-of-type {\n",
       "        vertical-align: middle;\n",
       "    }\n",
       "\n",
       "    .dataframe tbody tr th {\n",
       "        vertical-align: top;\n",
       "    }\n",
       "\n",
       "    .dataframe thead th {\n",
       "        text-align: right;\n",
       "    }\n",
       "</style>\n",
       "<table border=\"1\" class=\"dataframe\">\n",
       "  <thead>\n",
       "    <tr style=\"text-align: right;\">\n",
       "      <th></th>\n",
       "      <th>conversation_id</th>\n",
       "      <th>persona_id</th>\n",
       "      <th>article_id</th>\n",
       "      <th>summary</th>\n",
       "      <th>feedback</th>\n",
       "    </tr>\n",
       "  </thead>\n",
       "  <tbody>\n",
       "  </tbody>\n",
       "</table>\n",
       "</div>"
      ],
      "text/plain": [
       "Empty DataFrame\n",
       "Columns: [conversation_id, persona_id, article_id, summary, feedback]\n",
       "Index: []"
      ]
     },
     "execution_count": 53,
     "metadata": {},
     "output_type": "execute_result"
    }
   ],
   "source": [
    "columns_feedback = ['conversation_id','persona_id','article_id' , 'summary','feedback']\n",
    "\n",
    "df_feedback = pd.DataFrame(columns=columns_feedback)\n",
    "df_feedback.head()"
   ]
  },
  {
   "cell_type": "markdown",
   "metadata": {},
   "source": [
    "## Prepare agencies"
   ]
  },
  {
   "cell_type": "code",
   "execution_count": 9,
   "metadata": {},
   "outputs": [],
   "source": [
    "with open('../open_ai_api_key.txt', 'r') as file:\n",
    "    api_key = file.readline().strip()\n",
    "openai.api_key = api_key"
   ]
  },
  {
   "cell_type": "code",
   "execution_count": 22,
   "metadata": {},
   "outputs": [],
   "source": [
    "def agent_turn(system_prompt, conversation_history):\n",
    "    # Build the messages list starting with the system prompt\n",
    "    messages = [{\"role\": \"system\", \"content\": system_prompt}] + conversation_history\n",
    "\n",
    "    response = openai.ChatCompletion.create(\n",
    "        model=\"gpt-3.5-turbo\",  # or \"gpt-4\" if you have access\n",
    "        messages=messages\n",
    "    )\n",
    "\n",
    "    assistant_reply = response['choices'][0]['message']\n",
    "\n",
    "    # Append assistant's reply to the conversation history\n",
    "    conversation_history.append(assistant_reply)\n",
    "\n",
    "    return assistant_reply['content']\n"
   ]
  },
  {
   "cell_type": "code",
   "execution_count": null,
   "metadata": {},
   "outputs": [
    {
     "name": "stdout",
     "output_type": "stream",
     "text": [
      "\n",
      "Processing Article ID: 1\n",
      "\n",
      "--- Iteration 1 ---\n",
      "Summary Agent Response:\n",
      "Summary Agent: The article discusses the potential impacts of Donald Trump's presidential win on Canada, focusing on areas such as personal relations between Trump and Canadian leaders, trade implications, defense spending, and border security. Canadian officials express a mix of cautious optimism and concerns regarding the future relationship with the US under the new administration, emphasizing the need for strategic negotiations and adaptations to navigate potential challenges.\n",
      "\n",
      "Personalization Agent Feedback:\n",
      "Personalization Agent: The summary does a decent job of outlining the potential impacts of Donald Trump's win on Canada, touching on key areas like personal relations, trade, defense spending, and border security. However, to better meet the user's interests in Canada's economy and politics, the summary could be improved by providing more specific details on how Trump's win might affect Canada's economy, immigration policies, and political landscape. Including examples of specific immigration policies that might be impacted would also enhance the relevance of the summary to the user's concerns. Additionally, highlighting any potential political implications of Trump's win on Canada's leadership or policies would make the summary more comprehensive and tailored to the user's interests in Canada's economy and politics.\n",
      "\n",
      "\n",
      "--- Iteration 2 ---\n",
      "Summary Agent Response:\n",
      "Summary Agent: The article discusses the potential impacts of Donald Trump's presidential win on Canada, focusing on areas such as personal relations between Trump and Canadian leaders, trade implications, defense spending, and border security. Canadian officials express a mix of cautious optimism and concerns regarding the future relationship with the US under the new administration, emphasizing the need for strategic negotiations and adaptations to navigate potential challenges.\n",
      "\n",
      "Personalization Agent Feedback:\n",
      "Personalization Agent: The summary provides a broad overview of how Donald Trump's win could impact Canada, covering aspects like personal relations, trade, defense spending, and border security. To better address the user's interests in Canada's economy and politics, the summary could be enhanced by delving deeper into specific economic implications for Canada, particularly related to trade policies, potential changes in immigration regulations, and the overall political landscape. Including more detailed examples and analysis of how Trump's win might influence Canada's economy and political situation would make the summary more relevant and engaging for someone interested in Canada's economy and politics, especially regarding immigration policies. Additionally, a clearer explanation of how specific immigration policies could be affected would address the user's concerns more directly.\n",
      "\n",
      "\n",
      "--- Iteration 3 ---\n",
      "Summary Agent Response:\n",
      "Summary Agent: The article explores the potential consequences of Donald Trump's presidential victory on Canada, focusing on areas such as personal relationships between leaders, trade impacts, defense spending, and border security. Canadian officials express a combination of optimism and concerns regarding the future partnership with the US under the new administration, highlighting the need for strategic adaptations to handle potential challenges.\n",
      "\n",
      "Personalization Agent Feedback:\n",
      "Personalization Agent: The summary provides an informative overview of the potential impacts of Donald Trump's win on Canada, touching on various aspects such as personal relations, trade implications, defense spending, and border security. To better align with the user's interest in Canada's economy and politics, the summary could be improved by including more specific details related to economic policies and political changes that might result from Trump's victory. Delving deeper into the potential effects on immigration policies, such as discussing specific policies that could be affected, would address the user's concerns more directly. Additionally, highlighting any anticipated shifts in Canada's political landscape or governance structure due to Trump's win would enhance the summary's relevance to the user's interests. Providing concrete examples and in-depth analysis in these areas would make the summary more tailored and engaging for someone interested in Canada's economy, politics, and immigration.\n",
      "\n",
      "   conversation_id persona_id  article_id  \\\n",
      "0                0         jc           1   \n",
      "1                1         jc           1   \n",
      "2                2         jc           1   \n",
      "\n",
      "                                             summary  \\\n",
      "0  Summary Agent: The article discusses the poten...   \n",
      "1  Summary Agent: The article discusses the poten...   \n",
      "2  Summary Agent: The article explores the potent...   \n",
      "\n",
      "                                            feedback  \n",
      "0  Personalization Agent: The summary does a dece...  \n",
      "1  Personalization Agent: The summary provides a ...  \n",
      "2  Personalization Agent: The summary provides an...  \n"
     ]
    }
   ],
   "source": [
    "# For each article\n",
    "ids = 0\n",
    "data_feedback = []\n",
    "\n",
    "for index, article in df_article.iterrows():\n",
    "    print(f\"\\nProcessing Article ID: {article['article_id']}\")\n",
    "\n",
    "    # Initialize conversation history\n",
    "    conversation_history = []\n",
    "\n",
    "    # Create the user message with the article content\n",
    "    user_message = {\n",
    "        \"role\": \"user\",\n",
    "        \"content\": (\n",
    "            f\"Article ID: {article['article_id']}\\n\"\n",
    "            f\"Date: {article['date']}\\n\"\n",
    "            f\"Headline: {article['headline']}\\n\"\n",
    "            f\"Content: {article['content']}\"\n",
    "        )\n",
    "    }\n",
    "    conversation_history.append(user_message)\n",
    "\n",
    "    # Number of iterations to improve the summary\n",
    "    num_iterations = 3\n",
    "\n",
    "\n",
    "    for i in range(num_iterations):\n",
    "        print(f\"\\n--- Iteration {i+1} ---\")\n",
    "\n",
    "        # Summary Agent generates a summary\n",
    "        summary_response = agent_turn(df_agent.loc[df_agent['agent_id'] == 'sa', 'prompt'].values[0], conversation_history)\n",
    "        print(f\"Summary Agent Response:\\n{summary_response}\\n\")\n",
    "        # Append the assistant's reply to the conversation history\n",
    "        conversation_history.append({\n",
    "            \"role\": \"assistant\",\n",
    "            \"content\": summary_response\n",
    "        })\n",
    "\n",
    "        # Personalization Agent provides feedback\n",
    "        feedback_response = agent_turn(df_agent.loc[df_agent['agent_id'] == 'jc', 'prompt'].values[0], conversation_history)\n",
    "        print(f\"Personalization Agent Feedback:\\n{feedback_response}\\n\")\n",
    "        # Append the assistant's reply to the conversation history\n",
    "        conversation_history.append({\n",
    "            \"role\": \"assistant\",\n",
    "            \"content\": feedback_response\n",
    "        })\n",
    "\n",
    "        data_feedback.append([\n",
    "            ids, \n",
    "            'jc', \n",
    "            article['article_id'], \n",
    "            summary_response, \n",
    "            feedback_response\n",
    "        ])\n",
    "\n",
    "        ids += 1\n",
    "        \n",
    "# Convert the 2D list to a DataFrame\n",
    "columns_feedback = ['conversation_id','persona_id','article_id' , 'summary','feedback']\n",
    "df_feedback = pd.DataFrame(data_feedback, columns=columns_feedback)\n"
   ]
  },
  {
   "cell_type": "markdown",
   "metadata": {},
   "source": [
    "Canada faces potential challenges following Trump's election victory, including strained personal relations with Trump, economic impacts from potential tariffs, pressure to increase defense spending, and border security concerns. The future of the USMCA trade pact and addressing specific policies like the Digital Services Tax are key areas of focus as Canada navigates its relationship with the incoming Trump administration.\n",
    "\n",
    "Canada's relationship with the US under Trump's presidency may face challenges, including strained personal ties, economic impacts from potential tariffs, pressure to increase defense spending, and border security concerns. Key areas of focus for Canada include the USMCA trade pact, policies like the Digital Services Tax, and ensuring border security cooperation."
   ]
  },
  {
   "cell_type": "code",
   "execution_count": 56,
   "metadata": {},
   "outputs": [],
   "source": [
    "df_feedback.to_csv('data/feedback.csv', index=False)"
   ]
  },
  {
   "cell_type": "code",
   "execution_count": null,
   "metadata": {},
   "outputs": [
    {
     "data": {
      "text/plain": [
       "0    Summary Agent: The article discusses the poten...\n",
       "Name: summary, dtype: object"
      ]
     },
     "execution_count": 59,
     "metadata": {},
     "output_type": "execute_result"
    }
   ],
   "source": [
    "df_feedback[df_feedback['conversation_id'] == 0]"
   ]
  },
  {
   "cell_type": "code",
   "execution_count": null,
   "metadata": {},
   "outputs": [],
   "source": []
  }
 ],
 "metadata": {
  "kernelspec": {
   "display_name": "mlenv",
   "language": "python",
   "name": "python3"
  },
  "language_info": {
   "codemirror_mode": {
    "name": "ipython",
    "version": 3
   },
   "file_extension": ".py",
   "mimetype": "text/x-python",
   "name": "python",
   "nbconvert_exporter": "python",
   "pygments_lexer": "ipython3",
   "version": "3.10.13"
  }
 },
 "nbformat": 4,
 "nbformat_minor": 2
}
