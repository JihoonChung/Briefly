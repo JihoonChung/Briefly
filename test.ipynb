{
 "cells": [
  {
   "cell_type": "markdown",
   "metadata": {},
   "source": [
    "# Testing"
   ]
  },
  {
   "cell_type": "markdown",
   "metadata": {},
   "source": [
    "## News Scraper\n",
    "\n",
    "Probably need to add data cleaning."
   ]
  },
  {
   "cell_type": "code",
   "execution_count": null,
   "metadata": {},
   "outputs": [],
   "source": [
    "# pip install newspaper3k\n",
    "# pip install lxml[html_clean]"
   ]
  },
  {
   "cell_type": "code",
   "execution_count": null,
   "metadata": {},
   "outputs": [],
   "source": [
    "import pandas as pd"
   ]
  },
  {
   "cell_type": "markdown",
   "metadata": {},
   "source": [
    "Import scraping function `scrape_to_csv` from `scrape.py`."
   ]
  },
  {
   "cell_type": "code",
   "execution_count": 2,
   "metadata": {},
   "outputs": [],
   "source": [
    "from scrape import scrape_to_csv"
   ]
  },
  {
   "cell_type": "code",
   "execution_count": 9,
   "metadata": {},
   "outputs": [],
   "source": [
    "url_list = [\n",
    "    \"https://globalnews.ca/news/10863638/donald-trump-tom-homan-border-czar/\",\n",
    "    \"https://www.ctvnews.ca/world/trump-names-stephen-miller-to-be-deputy-chief-of-policy-in-new-administration-1.7105734\",\n",
    "    \"https://www.bbc.com/news/articles/cy4g0vg8gdqo\",\n",
    "    \"https://www.forbes.com/sites/saradorn/2024/11/11/trumps-cabinet-heres-who-hes-picked-for-top-jobs-as-stephen-miller-chosen-for-white-house-role/\",\n",
    "    \"https://www.cnn.com/2024/11/11/politics/stephen-miller-trump-administration/index.html\",\n",
    "    \"https://www.bbc.com/news/articles/c3vlndv0yxpo\",\n",
    "    \"https://www.washingtonpost.com/national-security/2024/11/10/trump-putin-phone-call-ukraine/\",\n",
    "    \"https://www.bbc.com/news/articles/cy4g0vg8gdqo\",\n",
    "    \"https://www.cbc.ca/news/world/trump-putin-phone-call-ukraine-1.7380033\"\n",
    "]\n",
    "category = \"Politics\"\n",
    "filename = \"news.csv\""
   ]
  },
  {
   "cell_type": "code",
   "execution_count": 10,
   "metadata": {},
   "outputs": [
    {
     "name": "stdout",
     "output_type": "stream",
     "text": [
      "Duplicate article found based on URL. Skipping...\n",
      "Duplicate article found based on URL. Skipping...\n",
      "Duplicate article found based on URL. Skipping...\n",
      "Failed to download or parse article: Article `download()` failed with 403 Client Error: Max restarts limit reached for url: https://www.forbes.com/sites/saradorn/2024/11/11/trumps-cabinet-heres-who-hes-picked-for-top-jobs-as-stephen-miller-chosen-for-white-house-role/ on URL https://www.forbes.com/sites/saradorn/2024/11/11/trumps-cabinet-heres-who-hes-picked-for-top-jobs-as-stephen-miller-chosen-for-white-house-role/\n",
      "Article 'Trump expected to announce Stephen Miller as deputy chief of staff for policy' saved to news.csv.\n",
      "Article 'Who is Elise Stefanik, Trump's pick for UN ambassador?' saved to news.csv.\n",
      "Article 'Trump talked to Putin, told Russian leader not to escalate in Ukraine' saved to news.csv.\n",
      "Duplicate article found based on URL. Skipping...\n",
      "Article 'Source says Trump advised Putin not to escalate Ukraine war, Kremlin denies conversation' saved to news.csv.\n"
     ]
    }
   ],
   "source": [
    "for url in url_list:\n",
    "    scrape_to_csv(url, category, filename)"
   ]
  },
  {
   "cell_type": "code",
   "execution_count": 3,
   "metadata": {},
   "outputs": [],
   "source": [
    "filename = \"news.csv\"\n",
    "df = pd.read_csv(filename)"
   ]
  },
  {
   "cell_type": "code",
   "execution_count": 4,
   "metadata": {},
   "outputs": [
    {
     "data": {
      "text/html": [
       "<div>\n",
       "<style scoped>\n",
       "    .dataframe tbody tr th:only-of-type {\n",
       "        vertical-align: middle;\n",
       "    }\n",
       "\n",
       "    .dataframe tbody tr th {\n",
       "        vertical-align: top;\n",
       "    }\n",
       "\n",
       "    .dataframe thead th {\n",
       "        text-align: right;\n",
       "    }\n",
       "</style>\n",
       "<table border=\"1\" class=\"dataframe\">\n",
       "  <thead>\n",
       "    <tr style=\"text-align: right;\">\n",
       "      <th></th>\n",
       "      <th>ID</th>\n",
       "      <th>Date of Article</th>\n",
       "      <th>Category</th>\n",
       "      <th>Title</th>\n",
       "      <th>Body</th>\n",
       "      <th>URL</th>\n",
       "    </tr>\n",
       "  </thead>\n",
       "  <tbody>\n",
       "    <tr>\n",
       "      <th>0</th>\n",
       "      <td>1731361091</td>\n",
       "      <td>2024-11-11</td>\n",
       "      <td>Politics</td>\n",
       "      <td>Donald Trump taps former ICE director Tom Homa...</td>\n",
       "      <td>Send this page to someone via email\\n\\nPreside...</td>\n",
       "      <td>https://globalnews.ca/news/10863638/donald-tru...</td>\n",
       "    </tr>\n",
       "  </tbody>\n",
       "</table>\n",
       "</div>"
      ],
      "text/plain": [
       "           ID Date of Article  Category  \\\n",
       "0  1731361091      2024-11-11  Politics   \n",
       "\n",
       "                                               Title  \\\n",
       "0  Donald Trump taps former ICE director Tom Homa...   \n",
       "\n",
       "                                                Body  \\\n",
       "0  Send this page to someone via email\\n\\nPreside...   \n",
       "\n",
       "                                                 URL  \n",
       "0  https://globalnews.ca/news/10863638/donald-tru...  "
      ]
     },
     "execution_count": 4,
     "metadata": {},
     "output_type": "execute_result"
    }
   ],
   "source": [
    "df.head(1)"
   ]
  },
  {
   "cell_type": "code",
   "execution_count": 5,
   "metadata": {},
   "outputs": [
    {
     "data": {
      "text/plain": [
       "0    Donald Trump taps former ICE director Tom Homa...\n",
       "1    Trump names Stephen Miller to be deputy chief ...\n",
       "2    Russia denies Trump call with Putin urging res...\n",
       "3    Trump expected to announce Stephen Miller as d...\n",
       "4    Who is Elise Stefanik, Trump's pick for UN amb...\n",
       "5    Trump talked to Putin, told Russian leader not...\n",
       "6    Source says Trump advised Putin not to escalat...\n",
       "Name: Title, dtype: object"
      ]
     },
     "execution_count": 5,
     "metadata": {},
     "output_type": "execute_result"
    }
   ],
   "source": [
    "df['Title']"
   ]
  },
  {
   "cell_type": "markdown",
   "metadata": {},
   "source": [
    "## Agents"
   ]
  },
  {
   "cell_type": "code",
   "execution_count": 12,
   "metadata": {},
   "outputs": [],
   "source": [
    "df_summary = df.copy()"
   ]
  },
  {
   "cell_type": "code",
   "execution_count": 15,
   "metadata": {},
   "outputs": [],
   "source": [
    "df_summary['Zero-Shot Summary'] = pd.NA"
   ]
  },
  {
   "cell_type": "markdown",
   "metadata": {},
   "source": [
    "Import agents from `agent.py`."
   ]
  },
  {
   "cell_type": "markdown",
   "metadata": {},
   "source": [
    "### Zero-Shot Summary"
   ]
  },
  {
   "cell_type": "code",
   "execution_count": 13,
   "metadata": {},
   "outputs": [],
   "source": [
    "from agent import SummarizationAgent"
   ]
  },
  {
   "cell_type": "code",
   "execution_count": 14,
   "metadata": {},
   "outputs": [],
   "source": [
    "summarization_agent = SummarizationAgent()"
   ]
  },
  {
   "cell_type": "markdown",
   "metadata": {},
   "source": [
    "Generate Zero-shot summaries."
   ]
  },
  {
   "cell_type": "code",
   "execution_count": 16,
   "metadata": {},
   "outputs": [],
   "source": [
    "def generate_summary(body):\n",
    "    try:\n",
    "        return summarization_agent.process(body)\n",
    "    except Exception as e:\n",
    "        print(f\"Failed to generate summary: {e}\")\n",
    "        return pd.NA"
   ]
  },
  {
   "cell_type": "code",
   "execution_count": null,
   "metadata": {},
   "outputs": [
    {
     "name": "stderr",
     "output_type": "stream",
     "text": [
      "2024-11-11 19:54:54,959 - Summarization Agent - INFO - Starting summarization...\n",
      "2024-11-11 19:54:54,960 - Summarization Agent - DEBUG - Generating initial summary...\n",
      "2024-11-11 19:54:57,742 - Summarization Agent - INFO - Received response: President-elect Donald Trump announced that Tom Homan, former acting director of U.S. Immigration and Customs Enforcement (ICE), will serve as \"border czar\" in his administration, responsible for overseeing the country's borders and deportation operations. Homan's role includes managing security at borders, maritime, and aviation points, as well as handling the deportation of illegal immigrants, which is central to Trump's agenda. Homan assured that these operations would be conducted humanely and strategically by ICE, emphasizing the efficiency of the organization's personnel in executing such tasks.\n",
      "2024-11-11 19:54:57,742 - Summarization Agent - INFO - Summary generated successfully.\n",
      "2024-11-11 19:54:57,743 - Summarization Agent - INFO - Starting summarization...\n",
      "2024-11-11 19:54:57,744 - Summarization Agent - DEBUG - Generating initial summary...\n",
      "2024-11-11 19:54:59,764 - Summarization Agent - INFO - Received response: U.S. President-elect Donald Trump has appointed longtime adviser and immigration hard-liner Stephen Miller as deputy chief of policy in his new administration. Miller, a central figure in Trump's previous administration known for his hard-line immigration policies and speeches, has continued to play an active role in Trump's campaigns and conservative legal advocacy with America First Legal. His recent appointment, confirmed by Vice President-elect JD Vance, does not require Senate confirmation.\n",
      "2024-11-11 19:54:59,765 - Summarization Agent - INFO - Summary generated successfully.\n",
      "2024-11-11 19:54:59,765 - Summarization Agent - INFO - Starting summarization...\n",
      "2024-11-11 19:54:59,766 - Summarization Agent - DEBUG - Generating initial summary...\n",
      "2024-11-11 19:55:02,463 - Summarization Agent - INFO - Received response: The Kremlin has denied reports that a call took place between U.S. President-elect Donald Trump and Russian President Vladimir Putin, where Trump allegedly urged restraint in Ukraine, labeling the claims as \"pure fiction.\" Trump's team did not comment on the alleged private calls, while his communications director stated that world leaders have begun reaching out to the president-elect. Amid these denials, concerns persist about the potential implications of U.S. foreign policy under Trump, with European allies emphasizing the importance of continued support for Ukraine against Russian aggression.\n",
      "2024-11-11 19:55:02,464 - Summarization Agent - INFO - Summary generated successfully.\n",
      "2024-11-11 19:55:02,464 - Summarization Agent - INFO - Starting summarization...\n",
      "2024-11-11 19:55:02,465 - Summarization Agent - DEBUG - Generating initial summary...\n",
      "2024-11-11 19:55:04,329 - Summarization Agent - INFO - Received response: President-elect Donald Trump is set to appoint Stephen Miller, his top immigration adviser and a strong advocate for restrictive immigration policies, as White House deputy chief of staff for policy. Miller, who spearheaded controversial immigration measures during Trump's first term, is planning for a significant increase in deportations, intending to expand them to over 1 million per year. Despite Trump distancing himself from Project 2025, a conservative blueprint tied to Miller, the latter remains committed to implementing stringent immigration enforcement and has indicated the possibility of constructing new detention centers using federal power in a second Trump administration.\n",
      "2024-11-11 19:55:04,330 - Summarization Agent - INFO - Summary generated successfully.\n",
      "2024-11-11 19:55:04,330 - Summarization Agent - INFO - Starting summarization...\n",
      "2024-11-11 19:55:04,331 - Summarization Agent - DEBUG - Generating initial summary...\n",
      "2024-11-11 19:55:06,523 - Summarization Agent - INFO - Received response: President-elect Donald Trump has nominated Republican Congresswoman Elise Stefanik as the US ambassador to the United Nations, highlighting her strong support for Israel and criticism of the UN's stance against Hamas. Stefanik, a long-time ally of Trump with limited foreign policy experience, aims to succeed career diplomat Linda Thomas-Greenfield, pending Senate confirmation. The New York Congresswoman expressed her commitment to fostering strong partnerships with US allies and has gained national attention for her outspoken support of Israel, particularly following recent events involving Hamas.\n",
      "2024-11-11 19:55:06,523 - Summarization Agent - INFO - Summary generated successfully.\n",
      "2024-11-11 19:55:06,524 - Summarization Agent - INFO - Starting summarization...\n",
      "2024-11-11 19:55:06,524 - Summarization Agent - DEBUG - Generating initial summary...\n",
      "2024-11-11 19:55:07,973 - Summarization Agent - INFO - Received response: President-elect Donald Trump spoke with Russian President Vladimir Putin, advising against escalating the war in Ukraine and highlighting the U.S. military presence in Europe, after his election victory. Trump expressed interest in achieving European peace and resolving the Ukrainian conflict, and has privately suggested supporting a deal where Russia retains some captured territories. The call, which was not previously reported, is part of Trump's outreach to global leaders amid concerns over his unpredictable approach to international diplomacy and his skepticism towards established governmental channels.\n",
      "2024-11-11 19:55:07,973 - Summarization Agent - INFO - Summary generated successfully.\n",
      "2024-11-11 19:55:07,974 - Summarization Agent - INFO - Starting summarization...\n",
      "2024-11-11 19:55:07,975 - Summarization Agent - DEBUG - Generating initial summary...\n",
      "2024-11-11 19:55:10,327 - Summarization Agent - INFO - Received response: Conflicting reports have emerged regarding a purported phone call between U.S. president-elect Donald Trump and Russian President Vladimir Putin, with an unnamed source claiming Trump advised Putin not to escalate the Ukraine war, while the Kremlin denied any such conversation occurred. Trump's criticism of extensive U.S. military and financial aid to Ukraine, and suggestions that Ukraine might need to cede territory for peace, stand in contrast to President Biden's steadfast support for Ukraine, which may change with a Republican-controlled Senate under Trump's incoming administration. Meanwhile, Ukraine continues to engage in significant military actions against Russia, highlighting ongoing tensions as allies express concerns over the implications of Trump's policies and potential diplomatic strategy for the conflict.\n",
      "2024-11-11 19:55:10,327 - Summarization Agent - INFO - Summary generated successfully.\n"
     ]
    }
   ],
   "source": [
    "df_summary['Zero-Shot Summary'] = df_summary['Body'].apply(generate_summary)"
   ]
  },
  {
   "cell_type": "code",
   "execution_count": null,
   "metadata": {},
   "outputs": [
    {
     "name": "stdout",
     "output_type": "stream",
     "text": [
      "Zero-Shot Summaries saved to summaries.csv\n"
     ]
    }
   ],
   "source": [
    "new_file = \"summaries.csv\"\n",
    "\n",
    "df_summary.to_csv(new_file, index=False)\n",
    "print(f\"Zero-Shot Summaries saved to {new_file}\")"
   ]
  },
  {
   "cell_type": "code",
   "execution_count": 21,
   "metadata": {},
   "outputs": [],
   "source": [
    "new_file = \"summaries.csv\"\n",
    "summaries = pd.read_csv(new_file)"
   ]
  },
  {
   "cell_type": "code",
   "execution_count": 22,
   "metadata": {},
   "outputs": [
    {
     "data": {
      "text/html": [
       "<div>\n",
       "<style scoped>\n",
       "    .dataframe tbody tr th:only-of-type {\n",
       "        vertical-align: middle;\n",
       "    }\n",
       "\n",
       "    .dataframe tbody tr th {\n",
       "        vertical-align: top;\n",
       "    }\n",
       "\n",
       "    .dataframe thead th {\n",
       "        text-align: right;\n",
       "    }\n",
       "</style>\n",
       "<table border=\"1\" class=\"dataframe\">\n",
       "  <thead>\n",
       "    <tr style=\"text-align: right;\">\n",
       "      <th></th>\n",
       "      <th>ID</th>\n",
       "      <th>Date of Article</th>\n",
       "      <th>Category</th>\n",
       "      <th>Title</th>\n",
       "      <th>Body</th>\n",
       "      <th>URL</th>\n",
       "      <th>Zero-Shot Summary</th>\n",
       "    </tr>\n",
       "  </thead>\n",
       "  <tbody>\n",
       "    <tr>\n",
       "      <th>0</th>\n",
       "      <td>1731361091</td>\n",
       "      <td>2024-11-11</td>\n",
       "      <td>Politics</td>\n",
       "      <td>Donald Trump taps former ICE director Tom Homa...</td>\n",
       "      <td>Send this page to someone via email\\n\\nPreside...</td>\n",
       "      <td>https://globalnews.ca/news/10863638/donald-tru...</td>\n",
       "      <td>President-elect Donald Trump announced that To...</td>\n",
       "    </tr>\n",
       "    <tr>\n",
       "      <th>1</th>\n",
       "      <td>1731361091</td>\n",
       "      <td>2024-11-11</td>\n",
       "      <td>Politics</td>\n",
       "      <td>Trump names Stephen Miller to be deputy chief ...</td>\n",
       "      <td>NEW YORK -\\n\\nU.S. President-elect Donald Trum...</td>\n",
       "      <td>https://www.ctvnews.ca/world/trump-names-steph...</td>\n",
       "      <td>U.S. President-elect Donald Trump has appointe...</td>\n",
       "    </tr>\n",
       "  </tbody>\n",
       "</table>\n",
       "</div>"
      ],
      "text/plain": [
       "           ID Date of Article  Category  \\\n",
       "0  1731361091      2024-11-11  Politics   \n",
       "1  1731361091      2024-11-11  Politics   \n",
       "\n",
       "                                               Title  \\\n",
       "0  Donald Trump taps former ICE director Tom Homa...   \n",
       "1  Trump names Stephen Miller to be deputy chief ...   \n",
       "\n",
       "                                                Body  \\\n",
       "0  Send this page to someone via email\\n\\nPreside...   \n",
       "1  NEW YORK -\\n\\nU.S. President-elect Donald Trum...   \n",
       "\n",
       "                                                 URL  \\\n",
       "0  https://globalnews.ca/news/10863638/donald-tru...   \n",
       "1  https://www.ctvnews.ca/world/trump-names-steph...   \n",
       "\n",
       "                                   Zero-Shot Summary  \n",
       "0  President-elect Donald Trump announced that To...  \n",
       "1  U.S. President-elect Donald Trump has appointe...  "
      ]
     },
     "execution_count": 22,
     "metadata": {},
     "output_type": "execute_result"
    }
   ],
   "source": [
    "summaries.head(2)"
   ]
  },
  {
   "cell_type": "markdown",
   "metadata": {},
   "source": [
    "### Personalization"
   ]
  },
  {
   "cell_type": "markdown",
   "metadata": {},
   "source": [
    "How do we actually get the background? (Survey, reading history?, ideally with usage)"
   ]
  },
  {
   "cell_type": "code",
   "execution_count": null,
   "metadata": {},
   "outputs": [],
   "source": [
    "background = [\"Donald Trump\", \"2022 Ukraine War\", \"2024 US election\"]"
   ]
  },
  {
   "cell_type": "markdown",
   "metadata": {},
   "source": [
    "`PersonalizationAgent` generates **persona(s)** and **feedback**.\n",
    "\n",
    "- **Persona(s)**\n",
    "    - Get from background, keywords\n",
    "    - Obtained from:\n",
    "        - Survey\n",
    "        - Read history\n",
    "        - Usage\n",
    "- **Feedback**\n",
    "    - Feedback based on persona and passed back to `SummarizationAgent`"
   ]
  },
  {
   "cell_type": "code",
   "execution_count": null,
   "metadata": {},
   "outputs": [],
   "source": [
    "from agent import PersonalizationAgent\n",
    "personalization_agent = PersonalizationAgent(background)"
   ]
  }
 ],
 "metadata": {
  "kernelspec": {
   "display_name": "ece1786",
   "language": "python",
   "name": "python3"
  },
  "language_info": {
   "codemirror_mode": {
    "name": "ipython",
    "version": 3
   },
   "file_extension": ".py",
   "mimetype": "text/x-python",
   "name": "python",
   "nbconvert_exporter": "python",
   "pygments_lexer": "ipython3",
   "version": "3.10.14"
  }
 },
 "nbformat": 4,
 "nbformat_minor": 2
}
